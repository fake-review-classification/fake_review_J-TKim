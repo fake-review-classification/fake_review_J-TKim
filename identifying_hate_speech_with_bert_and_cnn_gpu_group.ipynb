{
 "cells": [
  {
   "cell_type": "code",
   "execution_count": 1,
   "metadata": {
    "id": "baS0lOejtaxT"
   },
   "outputs": [],
   "source": [
    "%matplotlib inline"
   ]
  },
  {
   "cell_type": "code",
   "execution_count": 2,
   "metadata": {},
   "outputs": [],
   "source": [
    "import logging\n",
    "\n",
    "from platform import python_version\n",
    "import random\n",
    "\n",
    "import numpy as np\n",
    "\n",
    "import torch\n",
    "import sklearn\n",
    "import torch.nn as nn\n",
    "import pandas as pd\n",
    "import matplotlib\n",
    "\n",
    "from torch.autograd import Variable\n",
    "\n",
    "import transformers\n",
    "\n",
    "from preprocessing import preprocessing\n",
    "from tokenize_and_pad_text import *\n",
    "from train_model import KimCNN, train_test_model\n",
    "\n",
    "\n",
    "from sklearn.metrics import roc_auc_score"
   ]
  },
  {
   "cell_type": "code",
   "execution_count": 3,
   "metadata": {},
   "outputs": [],
   "source": [
    "random_seed = 42\n",
    "\n",
    "torch.manual_seed(random_seed)\n",
    "torch.cuda.manual_seed(random_seed)\n",
    "# torch.cuda.manual_seed_all(random_seed) # if use multi-GPU\n",
    "torch.backends.cudnn.deterministic = True\n",
    "torch.backends.cudnn.benchmark = False\n",
    "np.random.seed(random_seed)\n",
    "random.seed(random_seed)"
   ]
  },
  {
   "cell_type": "code",
   "execution_count": 4,
   "metadata": {},
   "outputs": [
    {
     "name": "stdout",
     "output_type": "stream",
     "text": [
      "version\n",
      "python version==3.7.5\n",
      "pandas==1.2.0\n",
      "numpy==1.19.4\n",
      "torch==1.7.1+cu101\n",
      "sklearn==0.24.0\n",
      "transformers==3.5.0\n",
      "matplotlib==3.3.3\n",
      "\n"
     ]
    }
   ],
   "source": [
    "print('version')\n",
    "print(f\"python version=={python_version()}\")\n",
    "print(f\"pandas=={pd.__version__}\")\n",
    "print(f\"numpy=={np.__version__}\")\n",
    "print(f\"torch=={torch.__version__}\")\n",
    "print(f\"sklearn=={sklearn.__version__}\")\n",
    "print(f\"transformers=={transformers.__version__}\")\n",
    "print(f\"matplotlib=={matplotlib.__version__}\",end='\\n\\n')"
   ]
  },
  {
   "cell_type": "code",
   "execution_count": 5,
   "metadata": {},
   "outputs": [],
   "source": [
    "model_class = transformers.BertModel\n",
    "tokenizer_class = transformers.BertTokenizer\n",
    "pretrained_weights = 'bert-base-uncased'\n",
    "target_columns = ['label']\n",
    "\n",
    "max_seq = 128\n",
    "bert_batch_size = 16\n",
    "\n",
    "kernel_num = 3\n",
    "kernel_sizes = [2, 3, 4]\n",
    "dropout = 0.5\n",
    "static = True\n",
    "\n",
    "n_epochs = 50\n",
    "patience = 5\n",
    "batch_size = 64\n",
    "lr = 0.001\n",
    "k_fold = 5\n",
    "optimizer = torch.optim.Adam\n",
    "loss_fn = nn.BCELoss()"
   ]
  },
  {
   "cell_type": "code",
   "execution_count": 6,
   "metadata": {},
   "outputs": [
    {
     "name": "stdout",
     "output_type": "stream",
     "text": [
      "There are 1 GPU(s) available.\n",
      "We will use the GPU: Tesla V100-DGXS-32GB\n",
      "use reviews.csv data\n"
     ]
    }
   ],
   "source": [
    "# If there's a GPU available...\n",
    "if torch.cuda.is_available():    \n",
    "\n",
    "    # Tell PyTorch to use the GPU.    \n",
    "    device = torch.device(\"cuda\")\n",
    "\n",
    "    print(f'There are {torch.cuda.device_count()} GPU(s) available.')\n",
    "\n",
    "    print(f'We will use the GPU: {torch.cuda.get_device_name(0)}')\n",
    "\n",
    "# If not...\n",
    "else:\n",
    "    print('No GPU available, using the CPU instead.')\n",
    "    device = torch.device(\"cpu\")\n",
    "\n",
    "logging.getLogger(\"transformers.tokenization_utils\").setLevel(logging.ERROR)\n",
    "\n",
    "data_path = '../reviews.csv'\n",
    "data_name = data_path.split('/')[-1]\n",
    "print(f'use {data_name} data', end='\\n')\n",
    "\n",
    "df = pd.read_csv(data_path)"
   ]
  },
  {
   "cell_type": "code",
   "execution_count": 7,
   "metadata": {},
   "outputs": [],
   "source": [
    "def main(ratio_threshold, preprocessing_function=(None, None), dist_type=None, dist_threshold=1, random_seed=42):\n",
    "    \n",
    "    if preprocessing_function[0] != 'check_around_words':\n",
    "        assert 0 <= ratio_threshold <= 1, 'ratio threshold must between 0 and 1'\n",
    "        print(f'start threshold {ratio_threshold}!!!')\n",
    "    \n",
    "    preprocessing_class = preprocessing(df,random_seed=random_seed)\n",
    "\n",
    "    df_train, df_val, df_test = preprocessing_class.preprocessing_all(ratio_threshold=ratio_threshold, preprocessing_function=preprocessing_function, dist_type=dist_type, dist_threshold=1)\n",
    "    \n",
    "    print('make train data ...')\n",
    "    x_train, y_train = tokenize_and_pad_text_bert(df_train, device, model_class, tokenizer_class, pretrained_weights,\n",
    "                                                max_seq=max_seq, batch_size=bert_batch_size, target_columns=target_columns)\n",
    "\n",
    "    print('make valid data ...')\n",
    "    x_val, y_val = tokenize_and_pad_text_bert(df_val, device, model_class, tokenizer_class, pretrained_weights,\n",
    "                                                max_seq=max_seq, batch_size=bert_batch_size, target_columns=target_columns)\n",
    "\n",
    "    print('make test data ...')\n",
    "    x_test, y_test = tokenize_and_pad_text_bert(df_test, device, model_class, tokenizer_class, pretrained_weights,\n",
    "                                                max_seq=max_seq, batch_size=bert_batch_size, target_columns=target_columns)\n",
    "\n",
    "    embed_num = x_train.shape[1]\n",
    "    embed_dim = x_train.shape[2]\n",
    "    class_num = y_train.shape[1]\n",
    "\n",
    "    auc_score_list = []\n",
    "    \n",
    "    for fold in range(k_fold):\n",
    "        model = KimCNN(\n",
    "            embed_num=embed_num,\n",
    "            embed_dim=embed_dim,\n",
    "            class_num=class_num,\n",
    "            kernel_num=kernel_num,\n",
    "            kernel_sizes=kernel_sizes,\n",
    "            dropout=dropout,\n",
    "            static=static,\n",
    "        )\n",
    "\n",
    "        model = model.to(device)\n",
    "\n",
    "        # train and test\n",
    "        review_classification_model = train_test_model(model, n_epochs, batch_size, lr, optimizer, loss_fn)\n",
    "        # auc_score_list = review_classification_model.kfold_train_test(x_train, y_train, x_test, y_test, kwargs, k_fold=5)\n",
    "\n",
    "        review_classification_model.train(x_train, y_train, x_val, y_val, fold=0, patience=patience)\n",
    "        y_test_np, y_preds_np = review_classification_model.test(x_test, y_test)\n",
    "\n",
    "        auc_score = roc_auc_score(y_test_np, y_preds_np, average=None)\n",
    "        print(f'k_fold: {fold+1}/{k_fold},\\tauc score: {auc_score}')\n",
    "        auc_score_list.append(auc_score)\n",
    "        \n",
    "    print(f'ratio_threshold: {ratio_threshold},\\tauc score: {np.mean(auc_score_list)}, std: {np.std(auc_score_list)}')\n",
    "    return auc_score_list"
   ]
  },
  {
   "cell_type": "code",
   "execution_count": 8,
   "metadata": {},
   "outputs": [],
   "source": [
    "ratio_threshold = 0.9\n",
    "preprocessing_function = ('dist_del_words') # (None), ('dist_del_words'), ('check_around_words', True), ('check_around_word', False)\n",
    "dist_type = 'cosine_similarity' # input cosine_similarity, eucliean_distance or None if you don't want to delite word considering the distance\n",
    "dist_threshold = 0.9"
   ]
  },
  {
   "cell_type": "code",
   "execution_count": 9,
   "metadata": {},
   "outputs": [
    {
     "name": "stdout",
     "output_type": "stream",
     "text": [
      "start threshold 0.9!!!\n",
      "make id dictionary and count id frequency of id ...\n"
     ]
    },
    {
     "name": "stderr",
     "output_type": "stream",
     "text": [
      "100%|██████████| 358957/358957 [00:06<00:00, 51315.88it/s]\n"
     ]
    },
    {
     "name": "stdout",
     "output_type": "stream",
     "text": [
      "label is changed!!! (-1, 1) => (0, 1)\n",
      "\n",
      "length of real review : 322097, length of fake review : 36860\n",
      "\n",
      "train val test split\n"
     ]
    },
    {
     "name": "stderr",
     "output_type": "stream",
     "text": [
      "  1%|          | 140/20000 [00:00<00:14, 1385.06it/s]"
     ]
    },
    {
     "name": "stdout",
     "output_type": "stream",
     "text": [
      "save\n",
      "done\n",
      "len(del_word_list): 1325\n"
     ]
    },
    {
     "name": "stderr",
     "output_type": "stream",
     "text": [
      "100%|██████████| 20000/20000 [00:14<00:00, 1397.46it/s]\n",
      "100%|██████████| 2000/2000 [00:01<00:00, 1401.91it/s]\n",
      "100%|██████████| 4000/4000 [00:02<00:00, 1400.33it/s]\n"
     ]
    },
    {
     "name": "stdout",
     "output_type": "stream",
     "text": [
      "make train data ...\n"
     ]
    },
    {
     "name": "stderr",
     "output_type": "stream",
     "text": [
      "100%|██████████| 1249/1249 [03:15<00:00,  6.38it/s]\n"
     ]
    },
    {
     "name": "stdout",
     "output_type": "stream",
     "text": [
      "make valid data ...\n"
     ]
    },
    {
     "name": "stderr",
     "output_type": "stream",
     "text": [
      "100%|██████████| 124/124 [00:04<00:00, 27.06it/s]\n"
     ]
    },
    {
     "name": "stdout",
     "output_type": "stream",
     "text": [
      "make test data ...\n"
     ]
    },
    {
     "name": "stderr",
     "output_type": "stream",
     "text": [
      "100%|██████████| 249/249 [00:09<00:00, 25.97it/s]\n"
     ]
    },
    {
     "name": "stdout",
     "output_type": "stream",
     "text": [
      "train model ...\n",
      "Epoch 0/49 Train loss: 0.67. Validation loss: 0.65. Elapsed time: 1.21.\n",
      "loss decresed {best_val_loss} -> {val_loss} save model...\n",
      "\n",
      "Epoch 1/49 Train loss: 0.66. Validation loss: 0.65. Elapsed time: 1.23.\n",
      "loss decresed {best_val_loss} -> {val_loss} save model...\n",
      "\n",
      "Epoch 2/49 Train loss: 0.66. Validation loss: 0.64. Elapsed time: 1.22.\n",
      "loss decresed {best_val_loss} -> {val_loss} save model...\n",
      "\n",
      "Epoch 3/49 Train loss: 0.65. Validation loss: 0.64. Elapsed time: 1.23.\n",
      "loss decresed {best_val_loss} -> {val_loss} save model...\n",
      "\n",
      "Epoch 4/49 Train loss: 0.65. Validation loss: 0.64. Elapsed time: 1.21.\n",
      "Epoch 5/49 Train loss: 0.64. Validation loss: 0.64. Elapsed time: 1.23.\n",
      "loss decresed {best_val_loss} -> {val_loss} save model...\n",
      "\n",
      "Epoch 6/49 Train loss: 0.64. Validation loss: 0.64. Elapsed time: 1.24.\n",
      "Epoch 7/49 Train loss: 0.63. Validation loss: 0.64. Elapsed time: 1.23.\n",
      "Epoch 8/49 Train loss: 0.63. Validation loss: 0.64. Elapsed time: 1.24.\n",
      "loss decresed {best_val_loss} -> {val_loss} save model...\n",
      "\n",
      "Epoch 9/49 Train loss: 0.63. Validation loss: 0.64. Elapsed time: 1.23.\n",
      "Epoch 10/49 Train loss: 0.62. Validation loss: 0.64. Elapsed time: 1.23.\n",
      "Epoch 11/49 Train loss: 0.62. Validation loss: 0.64. Elapsed time: 1.21.\n",
      "Epoch 12/49 Train loss: 0.62. Validation loss: 0.64. Elapsed time: 1.23.\n",
      "Epoch 13/49 Train loss: 0.61. Validation loss: 0.64. Elapsed time: 1.23.\n",
      "Earlystoppiong!\n"
     ]
    },
    {
     "data": {
      "image/png": "[encoded data removed]",
      "text/plain": [
       "<Figure size 432x288 with 1 Axes>"
      ]
     },
     "metadata": {
      "needs_background": "light"
     },
     "output_type": "display_data"
    },
    {
     "name": "stdout",
     "output_type": "stream",
     "text": [
      "test model ...\n",
      "k_fold: 1/5,\tauc score: 0.675073375\n",
      "train model ...\n",
      "Epoch 0/49 Train loss: 0.67. Validation loss: 0.66. Elapsed time: 1.25.\n",
      "loss decresed {best_val_loss} -> {val_loss} save model...\n",
      "\n",
      "Epoch 1/49 Train loss: 0.67. Validation loss: 0.65. Elapsed time: 1.23.\n",
      "loss decresed {best_val_loss} -> {val_loss} save model...\n",
      "\n",
      "Epoch 2/49 Train loss: 0.66. Validation loss: 0.65. Elapsed time: 1.23.\n",
      "Epoch 3/49 Train loss: 0.66. Validation loss: 0.64. Elapsed time: 1.22.\n",
      "loss decresed {best_val_loss} -> {val_loss} save model...\n",
      "\n",
      "Epoch 4/49 Train loss: 0.65. Validation loss: 0.64. Elapsed time: 1.22.\n",
      "loss decresed {best_val_loss} -> {val_loss} save model...\n",
      "\n",
      "Epoch 5/49 Train loss: 0.65. Validation loss: 0.64. Elapsed time: 1.22.\n",
      "loss decresed {best_val_loss} -> {val_loss} save model...\n",
      "\n",
      "Epoch 6/49 Train loss: 0.65. Validation loss: 0.64. Elapsed time: 1.26.\n",
      "Epoch 7/49 Train loss: 0.64. Validation loss: 0.64. Elapsed time: 1.22.\n",
      "Epoch 8/49 Train loss: 0.64. Validation loss: 0.64. Elapsed time: 1.21.\n",
      "loss decresed {best_val_loss} -> {val_loss} save model...\n",
      "\n",
      "Epoch 9/49 Train loss: 0.63. Validation loss: 0.64. Elapsed time: 1.22.\n",
      "Epoch 10/49 Train loss: 0.63. Validation loss: 0.64. Elapsed time: 1.22.\n",
      "Epoch 11/49 Train loss: 0.63. Validation loss: 0.64. Elapsed time: 1.20.\n",
      "Epoch 12/49 Train loss: 0.62. Validation loss: 0.64. Elapsed time: 1.23.\n",
      "Epoch 13/49 Train loss: 0.62. Validation loss: 0.64. Elapsed time: 1.23.\n",
      "Earlystoppiong!\n"
     ]
    },
    {
     "data": {
      "image/png": "[encoded data removed]",
      "text/plain": [
       "<Figure size 432x288 with 1 Axes>"
      ]
     },
     "metadata": {
      "needs_background": "light"
     },
     "output_type": "display_data"
    },
    {
     "name": "stdout",
     "output_type": "stream",
     "text": [
      "test model ...\n",
      "k_fold: 2/5,\tauc score: 0.6759537499999999\n",
      "train model ...\n",
      "Epoch 0/49 Train loss: 0.68. Validation loss: 0.65. Elapsed time: 1.25.\n",
      "loss decresed {best_val_loss} -> {val_loss} save model...\n",
      "\n",
      "Epoch 1/49 Train loss: 0.66. Validation loss: 0.64. Elapsed time: 1.23.\n",
      "loss decresed {best_val_loss} -> {val_loss} save model...\n",
      "\n",
      "Epoch 2/49 Train loss: 0.66. Validation loss: 0.64. Elapsed time: 1.23.\n",
      "loss decresed {best_val_loss} -> {val_loss} save model...\n",
      "\n",
      "Epoch 3/49 Train loss: 0.65. Validation loss: 0.64. Elapsed time: 1.23.\n",
      "loss decresed {best_val_loss} -> {val_loss} save model...\n",
      "\n",
      "Epoch 4/49 Train loss: 0.65. Validation loss: 0.64. Elapsed time: 1.23.\n",
      "Epoch 5/49 Train loss: 0.65. Validation loss: 0.64. Elapsed time: 1.23.\n",
      "Epoch 6/49 Train loss: 0.64. Validation loss: 0.64. Elapsed time: 1.22.\n",
      "Epoch 7/49 Train loss: 0.64. Validation loss: 0.64. Elapsed time: 1.22.\n",
      "Epoch 8/49 Train loss: 0.64. Validation loss: 0.64. Elapsed time: 1.23.\n",
      "Earlystoppiong!\n"
     ]
    },
    {
     "data": {
      "image/png": "[encoded data removed]",
      "text/plain": [
       "<Figure size 432x288 with 1 Axes>"
      ]
     },
     "metadata": {
      "needs_background": "light"
     },
     "output_type": "display_data"
    },
    {
     "name": "stdout",
     "output_type": "stream",
     "text": [
      "test model ...\n",
      "k_fold: 3/5,\tauc score: 0.6724579999999999\n",
      "train model ...\n",
      "Epoch 0/49 Train loss: 0.68. Validation loss: 0.66. Elapsed time: 1.25.\n",
      "loss decresed {best_val_loss} -> {val_loss} save model...\n",
      "\n",
      "Epoch 1/49 Train loss: 0.67. Validation loss: 0.65. Elapsed time: 1.23.\n",
      "loss decresed {best_val_loss} -> {val_loss} save model...\n",
      "\n",
      "Epoch 2/49 Train loss: 0.67. Validation loss: 0.65. Elapsed time: 1.25.\n",
      "loss decresed {best_val_loss} -> {val_loss} save model...\n",
      "\n",
      "Epoch 3/49 Train loss: 0.66. Validation loss: 0.65. Elapsed time: 1.20.\n",
      "loss decresed {best_val_loss} -> {val_loss} save model...\n",
      "\n",
      "Epoch 4/49 Train loss: 0.66. Validation loss: 0.64. Elapsed time: 1.22.\n",
      "loss decresed {best_val_loss} -> {val_loss} save model...\n",
      "\n",
      "Epoch 5/49 Train loss: 0.65. Validation loss: 0.64. Elapsed time: 1.24.\n",
      "Epoch 6/49 Train loss: 0.65. Validation loss: 0.65. Elapsed time: 1.23.\n",
      "Epoch 7/49 Train loss: 0.65. Validation loss: 0.64. Elapsed time: 1.23.\n",
      "loss decresed {best_val_loss} -> {val_loss} save model...\n",
      "\n",
      "Epoch 8/49 Train loss: 0.64. Validation loss: 0.64. Elapsed time: 1.18.\n",
      "loss decresed {best_val_loss} -> {val_loss} save model...\n",
      "\n",
      "Epoch 9/49 Train loss: 0.64. Validation loss: 0.64. Elapsed time: 1.23.\n",
      "loss decresed {best_val_loss} -> {val_loss} save model...\n",
      "\n",
      "Epoch 10/49 Train loss: 0.64. Validation loss: 0.65. Elapsed time: 1.23.\n",
      "Epoch 11/49 Train loss: 0.63. Validation loss: 0.65. Elapsed time: 1.23.\n",
      "Epoch 12/49 Train loss: 0.63. Validation loss: 0.64. Elapsed time: 1.23.\n",
      "Epoch 13/49 Train loss: 0.63. Validation loss: 0.64. Elapsed time: 1.22.\n",
      "loss decresed {best_val_loss} -> {val_loss} save model...\n",
      "\n",
      "Epoch 14/49 Train loss: 0.62. Validation loss: 0.64. Elapsed time: 1.24.\n",
      "Epoch 15/49 Train loss: 0.62. Validation loss: 0.64. Elapsed time: 1.23.\n",
      "Epoch 16/49 Train loss: 0.61. Validation loss: 0.65. Elapsed time: 1.23.\n",
      "Epoch 17/49 Train loss: 0.61. Validation loss: 0.66. Elapsed time: 1.22.\n",
      "Epoch 18/49 Train loss: 0.61. Validation loss: 0.65. Elapsed time: 1.24.\n",
      "Earlystoppiong!\n"
     ]
    },
    {
     "data": {
      "image/png": "[encoded data removed]",
      "text/plain": [
       "<Figure size 432x288 with 1 Axes>"
      ]
     },
     "metadata": {
      "needs_background": "light"
     },
     "output_type": "display_data"
    },
    {
     "name": "stdout",
     "output_type": "stream",
     "text": [
      "test model ...\n",
      "k_fold: 4/5,\tauc score: 0.6787866250000001\n",
      "train model ...\n",
      "Epoch 0/49 Train loss: 0.67. Validation loss: 0.65. Elapsed time: 1.25.\n",
      "loss decresed {best_val_loss} -> {val_loss} save model...\n",
      "\n",
      "Epoch 1/49 Train loss: 0.66. Validation loss: 0.64. Elapsed time: 1.23.\n",
      "loss decresed {best_val_loss} -> {val_loss} save model...\n",
      "\n",
      "Epoch 2/49 Train loss: 0.66. Validation loss: 0.64. Elapsed time: 1.22.\n",
      "loss decresed {best_val_loss} -> {val_loss} save model...\n",
      "\n",
      "Epoch 3/49 Train loss: 0.65. Validation loss: 0.64. Elapsed time: 1.22.\n",
      "loss decresed {best_val_loss} -> {val_loss} save model...\n",
      "\n",
      "Epoch 4/49 Train loss: 0.64. Validation loss: 0.64. Elapsed time: 1.23.\n",
      "loss decresed {best_val_loss} -> {val_loss} save model...\n",
      "\n",
      "Epoch 5/49 Train loss: 0.64. Validation loss: 0.64. Elapsed time: 1.26.\n",
      "loss decresed {best_val_loss} -> {val_loss} save model...\n",
      "\n",
      "Epoch 6/49 Train loss: 0.63. Validation loss: 0.63. Elapsed time: 1.26.\n",
      "loss decresed {best_val_loss} -> {val_loss} save model...\n",
      "\n",
      "Epoch 7/49 Train loss: 0.63. Validation loss: 0.64. Elapsed time: 1.24.\n",
      "Epoch 8/49 Train loss: 0.62. Validation loss: 0.63. Elapsed time: 1.24.\n",
      "Epoch 9/49 Train loss: 0.62. Validation loss: 0.64. Elapsed time: 1.23.\n",
      "Epoch 10/49 Train loss: 0.61. Validation loss: 0.63. Elapsed time: 1.23.\n",
      "loss decresed {best_val_loss} -> {val_loss} save model...\n",
      "\n",
      "Epoch 11/49 Train loss: 0.61. Validation loss: 0.64. Elapsed time: 1.26.\n",
      "Epoch 12/49 Train loss: 0.61. Validation loss: 0.64. Elapsed time: 1.23.\n",
      "Epoch 13/49 Train loss: 0.60. Validation loss: 0.64. Elapsed time: 1.24.\n",
      "Epoch 14/49 Train loss: 0.60. Validation loss: 0.64. Elapsed time: 1.23.\n",
      "Epoch 15/49 Train loss: 0.59. Validation loss: 0.64. Elapsed time: 1.23.\n",
      "Earlystoppiong!\n"
     ]
    },
    {
     "data": {
      "image/png": "[encoded data removed]",
      "text/plain": [
       "<Figure size 432x288 with 1 Axes>"
      ]
     },
     "metadata": {
      "needs_background": "light"
     },
     "output_type": "display_data"
    },
    {
     "name": "stdout",
     "output_type": "stream",
     "text": [
      "test model ...\n",
      "k_fold: 5/5,\tauc score: 0.6679247500000001\n",
      "ratio_threshold: 0.9,\tdist_type and dist_threshold: cosine_similarity 0.9\n",
      "auc score: 0.6740392999999999, std: 0.0036649626452734817\n"
     ]
    },
    {
     "data": {
      "text/plain": [
       "[0.675073375,\n",
       " 0.6759537499999999,\n",
       " 0.6724579999999999,\n",
       " 0.6787866250000001,\n",
       " 0.6679247500000001]"
      ]
     },
     "execution_count": 9,
     "metadata": {},
     "output_type": "execute_result"
    }
   ],
   "source": [
    "main(ratio_threshold, preprocessing_function, dist_type, dist_threshold)"
   ]
  }
 ],
 "metadata": {
  "colab": {
   "collapsed_sections": [],
   "name": "identifying-hate-speech-with-bert-and-cnn.ipynb",
   "provenance": []
  },
  "kernelspec": {
   "display_name": "project",
   "language": "python",
   "name": "project"
  },
  "language_info": {
   "codemirror_mode": {
    "name": "ipython",
    "version": 3
   },
   "file_extension": ".py",
   "mimetype": "text/x-python",
   "name": "python",
   "nbconvert_exporter": "python",
   "pygments_lexer": "ipython3",
   "version": "3.7.5"
  }
 },
 "nbformat": 4,
 "nbformat_minor": 4
}
