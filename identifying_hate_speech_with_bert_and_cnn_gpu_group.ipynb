{
 "cells": [
  {
   "cell_type": "code",
   "execution_count": 1,
   "metadata": {
    "id": "baS0lOejtaxT"
   },
   "outputs": [],
   "source": [
    "%matplotlib inline"
   ]
  },
  {
   "cell_type": "code",
   "execution_count": 2,
   "metadata": {
    "id": "vJPwpokJtaxZ"
   },
   "outputs": [],
   "source": [
    "import logging\n",
    "\n",
    "from platform import python_version\n",
    "import random\n",
    "\n",
    "\n",
    "import numpy as np\n",
    "\n",
    "import torch\n",
    "import sklearn\n",
    "import torch.nn as nn\n",
    "import pandas as pd\n",
    "import matplotlib\n",
    "\n",
    "from torch.autograd import Variable\n",
    "\n",
    "import transformers\n",
    "\n",
    "\n",
    "from preprocessing import preprocessing\n",
    "from tokenize_and_pad_text import *\n",
    "from train_model import KimCNN, train_test_model"
   ]
  },
  {
   "cell_type": "code",
   "execution_count": 3,
   "metadata": {
    "id": "gN48AzdNEUnX"
   },
   "outputs": [],
   "source": [
    "random_seed = 42\n",
    "\n",
    "torch.manual_seed(random_seed)\n",
    "torch.cuda.manual_seed(random_seed)\n",
    "# torch.cuda.manual_seed_all(random_seed) # if use multi-GPU\n",
    "torch.backends.cudnn.deterministic = True\n",
    "torch.backends.cudnn.benchmark = False\n",
    "np.random.seed(random_seed)\n",
    "random.seed(random_seed)"
   ]
  },
  {
   "cell_type": "code",
   "execution_count": 4,
   "metadata": {},
   "outputs": [],
   "source": [
    "threshold = 0.9\n",
    "\n",
    "model_class = transformers.BertModel\n",
    "tokenizer_class = transformers.BertTokenizer\n",
    "pretrained_weights = 'bert-base-uncased'\n",
    "target_columns = ['label']\n",
    "\n",
    "max_seq = 128\n",
    "bert_batch_size = 16\n",
    "\n",
    "kernel_num = 3\n",
    "kernel_sizes = [2, 3, 4]\n",
    "dropout = 0.5\n",
    "static = True\n",
    "\n",
    "n_epochs = 10\n",
    "batch_size = 64\n",
    "lr = 0.001\n",
    "optimizer = torch.optim.Adam\n",
    "loss_fn = nn.BCELoss()"
   ]
  },
  {
   "cell_type": "code",
   "execution_count": 5,
   "metadata": {},
   "outputs": [
    {
     "name": "stdout",
     "output_type": "stream",
     "text": [
      "version\n",
      "python version==3.7.5\n",
      "pandas==1.2.0\n",
      "numpy==1.19.4\n",
      "torch==1.7.1+cu101\n",
      "sklearn==0.24.0\n",
      "transformers==3.5.0\n",
      "matplotlib==3.3.3\n",
      "\n",
      "There are 1 GPU(s) available.\n",
      "We will use the GPU: Tesla V100-DGXS-32GB\n",
      "\n",
      "use reviews.csv data\n",
      "make id dictionary and count id frequency of id ...\n"
     ]
    },
    {
     "name": "stderr",
     "output_type": "stream",
     "text": [
      "100%|██████████| 358957/358957 [00:06<00:00, 53191.51it/s]\n"
     ]
    },
    {
     "name": "stdout",
     "output_type": "stream",
     "text": [
      "label is changed!!! (-1, 1) => (0, 1)\n",
      "\n",
      "length of real review : 322097, length of fake review : 36860\n",
      "\n",
      "train val test split\n",
      "make train data ...\n"
     ]
    },
    {
     "name": "stderr",
     "output_type": "stream",
     "text": [
      "0it [00:00, ?it/s]\n"
     ]
    },
    {
     "name": "stdout",
     "output_type": "stream",
     "text": [
      "make valid data ...\n"
     ]
    },
    {
     "name": "stderr",
     "output_type": "stream",
     "text": [
      "100%|██████████| 124/124 [00:04<00:00, 26.59it/s]\n"
     ]
    },
    {
     "name": "stdout",
     "output_type": "stream",
     "text": [
      "make train data ...\n"
     ]
    },
    {
     "name": "stderr",
     "output_type": "stream",
     "text": [
      "100%|██████████| 249/249 [00:13<00:00, 18.90it/s]\n"
     ]
    },
    {
     "name": "stdout",
     "output_type": "stream",
     "text": [
      "train model ...\n",
      "Epoch 1 Train loss: 0.59. Validation loss: 0.69. Elapsed time: 0.01.\n",
      "Epoch 2 Train loss: 0.61. Validation loss: 0.69. Elapsed time: 0.00.\n",
      "Epoch 3 Train loss: 0.60. Validation loss: 0.69. Elapsed time: 0.00.\n",
      "Epoch 4 Train loss: 0.43. Validation loss: 0.69. Elapsed time: 0.00.\n",
      "Epoch 5 Train loss: 0.32. Validation loss: 0.68. Elapsed time: 0.00.\n",
      "Epoch 6 Train loss: 0.16. Validation loss: 0.67. Elapsed time: 0.00.\n",
      "Epoch 7 Train loss: 0.12. Validation loss: 0.67. Elapsed time: 0.00.\n",
      "Epoch 8 Train loss: 0.17. Validation loss: 0.66. Elapsed time: 0.00.\n",
      "Epoch 9 Train loss: 0.18. Validation loss: 0.67. Elapsed time: 0.00.\n",
      "Epoch 10 Train loss: 0.03. Validation loss: 0.67. Elapsed time: 0.00.\n"
     ]
    },
    {
     "data": {
      "image/png": "[encoded data removed]",
      "text/plain": [
       "<Figure size 432x288 with 1 Axes>"
      ]
     },
     "metadata": {
      "needs_background": "light"
     },
     "output_type": "display_data"
    },
    {
     "name": "stdout",
     "output_type": "stream",
     "text": [
      "test model ...\n",
      "threshold : 0.9,\tauc ascores : 0.644139875\n"
     ]
    }
   ],
   "source": [
    "print('version')\n",
    "print(f\"python version=={python_version()}\")\n",
    "print(f\"pandas=={pd.__version__}\")\n",
    "print(f\"numpy=={np.__version__}\")\n",
    "print(f\"torch=={torch.__version__}\")\n",
    "print(f\"sklearn=={sklearn.__version__}\")\n",
    "print(f\"transformers=={transformers.__version__}\")\n",
    "print(f\"matplotlib=={matplotlib.__version__}\",end='\\n\\n')\n",
    "\n",
    "# If there's a GPU available...\n",
    "if torch.cuda.is_available():    \n",
    "\n",
    "    # Tell PyTorch to use the GPU.    \n",
    "    device = torch.device(\"cuda\")\n",
    "\n",
    "    print(f'There are {torch.cuda.device_count()} GPU(s) available.')\n",
    "\n",
    "    print(f'We will use the GPU: {torch.cuda.get_device_name(0)}', end='\\n\\n')\n",
    "\n",
    "# If not...\n",
    "else:\n",
    "    print('No GPU available, using the CPU instead.')\n",
    "    device = torch.device(\"cpu\", end='\\n\\n')\n",
    "    \n",
    "logging.getLogger(\"transformers.tokenization_utils\").setLevel(logging.ERROR)\n",
    "\n",
    "data_path = '../reviews.csv'\n",
    "data_name = data_path.split('/')[-1]\n",
    "print(f'use {data_name} data', end='\\n')\n",
    "\n",
    "df = pd.read_csv(data_path)\n",
    "\n",
    "preprocessing_class = preprocessing(df)\n",
    "\n",
    "df_train, df_val, df_test = preprocessing_class.preprocessing_all()\n",
    "\n",
    "print('make train data ...')\n",
    "x_train, y_train = tokenize_and_pad_text_bert(df_train, device, model_class, tokenizer_class, pretrained_weights,\n",
    "                                            max_seq=max_seq, batch_size=bert_batch_size, target_columns=target_columns)\n",
    "\n",
    "print('make valid data ...')\n",
    "x_val, y_val = tokenize_and_pad_text_bert(df_val, device, model_class, tokenizer_class, pretrained_weights,\n",
    "                                            max_seq=max_seq, batch_size=bert_batch_size, target_columns=target_columns)\n",
    "\n",
    "print('make train data ...')\n",
    "x_test, y_test = tokenize_and_pad_text_bert(df_test, device, model_class, tokenizer_class, pretrained_weights,\n",
    "                                            max_seq=max_seq, batch_size=bert_batch_size, target_columns=target_columns)\n",
    "                                 \n",
    "embed_num = x_train.shape[1]\n",
    "embed_dim = x_train.shape[2]\n",
    "class_num = y_train.shape[1]\n",
    "\n",
    "model = KimCNN(\n",
    "    embed_num=embed_num,\n",
    "    embed_dim=embed_dim,\n",
    "    class_num=class_num,\n",
    "    kernel_num=kernel_num,\n",
    "    kernel_sizes=kernel_sizes,\n",
    "    dropout=dropout,\n",
    "    static=static,\n",
    ")\n",
    "\n",
    "model = model.to(device)\n",
    "\n",
    "# train and test\n",
    "review_classification_model = train_test_model(model)\n",
    "review_classification_model.train(x_train, y_train, x_val, y_val)\n",
    "auc_scores = review_classification_model.test(x_test, y_test)\n",
    "\n",
    "print(f'threshold : {threshold},\\tauc ascores : {auc_scores}')"
   ]
  }
 ],
 "metadata": {
  "colab": {
   "collapsed_sections": [],
   "name": "identifying-hate-speech-with-bert-and-cnn.ipynb",
   "provenance": []
  },
  "kernelspec": {
   "display_name": "project",
   "language": "python",
   "name": "project"
  },
  "language_info": {
   "codemirror_mode": {
    "name": "ipython",
    "version": 3
   },
   "file_extension": ".py",
   "mimetype": "text/x-python",
   "name": "python",
   "nbconvert_exporter": "python",
   "pygments_lexer": "ipython3",
   "version": "3.7.5"
  }
 },
 "nbformat": 4,
 "nbformat_minor": 4
}
