{
  "nbformat": 4,
  "nbformat_minor": 0,
  "metadata": {
    "colab": {
      "name": "identifying-hate-speech-with-bert-and-cnn.ipynb",
      "provenance": [],
      "collapsed_sections": []
    },
    "kernelspec": {
      "display_name": "Python 3",
      "language": "python",
      "name": "python3"
    },
    "language_info": {
      "codemirror_mode": {
        "name": "ipython",
        "version": 3
      },
      "file_extension": ".py",
      "mimetype": "text/x-python",
      "name": "python",
      "nbconvert_exporter": "python",
      "pygments_lexer": "ipython3",
      "version": "3.7.3"
    }
  },
  "cells": [
    {
      "cell_type": "code",
      "metadata": {
        "id": "baS0lOejtaxT"
      },
      "source": [
        "%matplotlib inline"
      ],
      "execution_count": 1,
      "outputs": []
    },
    {
      "cell_type": "code",
      "metadata": {
        "colab": {
          "base_uri": "https://localhost:8080/"
        },
        "id": "7tZkP2rutt1O",
        "outputId": "35aceacc-adeb-42d2-9bda-923cd041d632"
      },
      "source": [
        "# !pip uninstall transformers\r\n",
        "!pip install transformers==3.5"
      ],
      "execution_count": 2,
      "outputs": [
        {
          "output_type": "stream",
          "text": [
            "Requirement already satisfied: transformers==3.5 in /usr/local/lib/python3.6/dist-packages (3.5.0)\n",
            "Requirement already satisfied: sentencepiece==0.1.91 in /usr/local/lib/python3.6/dist-packages (from transformers==3.5) (0.1.91)\n",
            "Requirement already satisfied: tqdm>=4.27 in /usr/local/lib/python3.6/dist-packages (from transformers==3.5) (4.41.1)\n",
            "Requirement already satisfied: sacremoses in /usr/local/lib/python3.6/dist-packages (from transformers==3.5) (0.0.43)\n",
            "Requirement already satisfied: dataclasses; python_version < \"3.7\" in /usr/local/lib/python3.6/dist-packages (from transformers==3.5) (0.8)\n",
            "Requirement already satisfied: numpy in /usr/local/lib/python3.6/dist-packages (from transformers==3.5) (1.19.5)\n",
            "Requirement already satisfied: protobuf in /usr/local/lib/python3.6/dist-packages (from transformers==3.5) (3.12.4)\n",
            "Requirement already satisfied: packaging in /usr/local/lib/python3.6/dist-packages (from transformers==3.5) (20.9)\n",
            "Requirement already satisfied: filelock in /usr/local/lib/python3.6/dist-packages (from transformers==3.5) (3.0.12)\n",
            "Requirement already satisfied: regex!=2019.12.17 in /usr/local/lib/python3.6/dist-packages (from transformers==3.5) (2019.12.20)\n",
            "Requirement already satisfied: tokenizers==0.9.3 in /usr/local/lib/python3.6/dist-packages (from transformers==3.5) (0.9.3)\n",
            "Requirement already satisfied: requests in /usr/local/lib/python3.6/dist-packages (from transformers==3.5) (2.23.0)\n",
            "Requirement already satisfied: six in /usr/local/lib/python3.6/dist-packages (from sacremoses->transformers==3.5) (1.15.0)\n",
            "Requirement already satisfied: joblib in /usr/local/lib/python3.6/dist-packages (from sacremoses->transformers==3.5) (1.0.0)\n",
            "Requirement already satisfied: click in /usr/local/lib/python3.6/dist-packages (from sacremoses->transformers==3.5) (7.1.2)\n",
            "Requirement already satisfied: setuptools in /usr/local/lib/python3.6/dist-packages (from protobuf->transformers==3.5) (53.0.0)\n",
            "Requirement already satisfied: pyparsing>=2.0.2 in /usr/local/lib/python3.6/dist-packages (from packaging->transformers==3.5) (2.4.7)\n",
            "Requirement already satisfied: chardet<4,>=3.0.2 in /usr/local/lib/python3.6/dist-packages (from requests->transformers==3.5) (3.0.4)\n",
            "Requirement already satisfied: certifi>=2017.4.17 in /usr/local/lib/python3.6/dist-packages (from requests->transformers==3.5) (2020.12.5)\n",
            "Requirement already satisfied: urllib3!=1.25.0,!=1.25.1,<1.26,>=1.21.1 in /usr/local/lib/python3.6/dist-packages (from requests->transformers==3.5) (1.24.3)\n",
            "Requirement already satisfied: idna<3,>=2.5 in /usr/local/lib/python3.6/dist-packages (from requests->transformers==3.5) (2.10)\n"
          ],
          "name": "stdout"
        }
      ]
    },
    {
      "cell_type": "code",
      "metadata": {
        "id": "vJPwpokJtaxZ"
      },
      "source": [
        "import logging\n",
        "import time\n",
        "from platform import python_version\n",
        "import random\n",
        "from tqdm import tqdm\n",
        "import re\n",
        "\n",
        "import matplotlib\n",
        "import matplotlib.pyplot as plt\n",
        "import numpy as np\n",
        "import pandas as pd\n",
        "import sklearn\n",
        "import torch\n",
        "import torch.nn as nn\n",
        "import torch.nn.functional as F\n",
        "import transformers\n",
        "from sklearn.metrics import roc_auc_score\n",
        "from torch.autograd import Variable"
      ],
      "execution_count": 3,
      "outputs": []
    },
    {
      "cell_type": "code",
      "metadata": {
        "id": "gN48AzdNEUnX"
      },
      "source": [
        "random_seed = 42\r\n",
        "\r\n",
        "torch.manual_seed(random_seed)\r\n",
        "torch.cuda.manual_seed(random_seed)\r\n",
        "# torch.cuda.manual_seed_all(random_seed) # if use multi-GPU\r\n",
        "# torch.backends.cudnn.deterministic = True\r\n",
        "torch.backends.cudnn.benchmark = False\r\n",
        "np.random.seed(random_seed)\r\n",
        "random.seed(random_seed)"
      ],
      "execution_count": 4,
      "outputs": []
    },
    {
      "cell_type": "code",
      "metadata": {
        "colab": {
          "base_uri": "https://localhost:8080/"
        },
        "id": "mZxwPGvGtaxa",
        "outputId": "f5adb568-1206-4765-c344-a2c3dfde87dd"
      },
      "source": [
        "print(\"python version==%s\" % python_version())\n",
        "print(\"pandas==%s\" % pd.__version__)\n",
        "print(\"numpy==%s\" % np.__version__)\n",
        "print(\"torch==%s\" % torch.__version__)\n",
        "print(\"sklearn==%s\" % sklearn.__version__)\n",
        "print(\"transformers==%s\" % transformers.__version__)\n",
        "print(\"matplotlib==%s\" % matplotlib.__version__)"
      ],
      "execution_count": 5,
      "outputs": [
        {
          "output_type": "stream",
          "text": [
            "python version==3.6.9\n",
            "pandas==1.1.5\n",
            "numpy==1.19.5\n",
            "torch==1.7.0+cu101\n",
            "sklearn==0.22.2.post1\n",
            "transformers==3.5.0\n",
            "matplotlib==3.2.2\n"
          ],
          "name": "stdout"
        }
      ]
    },
    {
      "cell_type": "code",
      "metadata": {
        "id": "SudIBKt5taxb"
      },
      "source": [
        "logging.getLogger(\"transformers.tokenization_utils\").setLevel(logging.ERROR)"
      ],
      "execution_count": 6,
      "outputs": []
    },
    {
      "cell_type": "code",
      "metadata": {
        "id": "UtcSv5btyeMQ",
        "colab": {
          "base_uri": "https://localhost:8080/"
        },
        "outputId": "dc24ecd6-1cf9-42e4-d390-8d3fb20ea5ed"
      },
      "source": [
        "from google.colab import drive\n",
        "drive.mount('/content/drive')"
      ],
      "execution_count": 7,
      "outputs": [
        {
          "output_type": "stream",
          "text": [
            "Drive already mounted at /content/drive; to attempt to forcibly remount, call drive.mount(\"/content/drive\", force_remount=True).\n"
          ],
          "name": "stdout"
        }
      ]
    },
    {
      "cell_type": "code",
      "metadata": {
        "id": "kM-sdDENtaxb",
        "colab": {
          "base_uri": "https://localhost:8080/"
        },
        "outputId": "1209b448-2399-422b-9f1f-5c01039921b9"
      },
      "source": [
        "# df = pd.read_csv('drive/MyDrive/train.csv')\n",
        "df = pd.read_csv('drive/MyDrive/reviews.csv')\n",
        "df.shape"
      ],
      "execution_count": 8,
      "outputs": [
        {
          "output_type": "execute_result",
          "data": {
            "text/plain": [
              "(358957, 6)"
            ]
          },
          "metadata": {
            "tags": []
          },
          "execution_count": 8
        }
      ]
    },
    {
      "cell_type": "code",
      "metadata": {
        "colab": {
          "base_uri": "https://localhost:8080/",
          "height": 197
        },
        "id": "OQgX0sUPIGk_",
        "outputId": "c2ada861-51b7-4575-c871-484f46fe4db2"
      },
      "source": [
        "df.head()"
      ],
      "execution_count": 9,
      "outputs": [
        {
          "output_type": "execute_result",
          "data": {
            "text/html": [
              "<div>\n",
              "<style scoped>\n",
              "    .dataframe tbody tr th:only-of-type {\n",
              "        vertical-align: middle;\n",
              "    }\n",
              "\n",
              "    .dataframe tbody tr th {\n",
              "        vertical-align: top;\n",
              "    }\n",
              "\n",
              "    .dataframe thead th {\n",
              "        text-align: right;\n",
              "    }\n",
              "</style>\n",
              "<table border=\"1\" class=\"dataframe\">\n",
              "  <thead>\n",
              "    <tr style=\"text-align: right;\">\n",
              "      <th></th>\n",
              "      <th>user_id</th>\n",
              "      <th>prod_id</th>\n",
              "      <th>rating</th>\n",
              "      <th>label</th>\n",
              "      <th>date</th>\n",
              "      <th>review</th>\n",
              "    </tr>\n",
              "  </thead>\n",
              "  <tbody>\n",
              "    <tr>\n",
              "      <th>0</th>\n",
              "      <td>923</td>\n",
              "      <td>0</td>\n",
              "      <td>3.0</td>\n",
              "      <td>-1</td>\n",
              "      <td>2014-12-08</td>\n",
              "      <td>The food at snack is a selection of popular Gr...</td>\n",
              "    </tr>\n",
              "    <tr>\n",
              "      <th>1</th>\n",
              "      <td>924</td>\n",
              "      <td>0</td>\n",
              "      <td>3.0</td>\n",
              "      <td>-1</td>\n",
              "      <td>2013-05-16</td>\n",
              "      <td>This little place in Soho is wonderful. I had ...</td>\n",
              "    </tr>\n",
              "    <tr>\n",
              "      <th>2</th>\n",
              "      <td>925</td>\n",
              "      <td>0</td>\n",
              "      <td>4.0</td>\n",
              "      <td>-1</td>\n",
              "      <td>2013-07-01</td>\n",
              "      <td>ordered lunch for 15 from Snack last Friday.  ...</td>\n",
              "    </tr>\n",
              "    <tr>\n",
              "      <th>3</th>\n",
              "      <td>926</td>\n",
              "      <td>0</td>\n",
              "      <td>4.0</td>\n",
              "      <td>-1</td>\n",
              "      <td>2011-07-28</td>\n",
              "      <td>This is a beautiful quaint little restaurant o...</td>\n",
              "    </tr>\n",
              "    <tr>\n",
              "      <th>4</th>\n",
              "      <td>927</td>\n",
              "      <td>0</td>\n",
              "      <td>4.0</td>\n",
              "      <td>-1</td>\n",
              "      <td>2010-11-01</td>\n",
              "      <td>Snack is great place for a  casual sit down lu...</td>\n",
              "    </tr>\n",
              "  </tbody>\n",
              "</table>\n",
              "</div>"
            ],
            "text/plain": [
              "   user_id  ...                                             review\n",
              "0      923  ...  The food at snack is a selection of popular Gr...\n",
              "1      924  ...  This little place in Soho is wonderful. I had ...\n",
              "2      925  ...  ordered lunch for 15 from Snack last Friday.  ...\n",
              "3      926  ...  This is a beautiful quaint little restaurant o...\n",
              "4      927  ...  Snack is great place for a  casual sit down lu...\n",
              "\n",
              "[5 rows x 6 columns]"
            ]
          },
          "metadata": {
            "tags": []
          },
          "execution_count": 9
        }
      ]
    },
    {
      "cell_type": "code",
      "metadata": {
        "id": "gew4_Y2S5oeb"
      },
      "source": [
        "def make_id_dict(df):\r\n",
        "    user_id_dict = {}\r\n",
        "    prod_id_dict = {}\r\n",
        "\r\n",
        "    for idx in tqdm(range(df.shape[0])):\r\n",
        "        if df.user_id[idx] in user_id_dict:\r\n",
        "            user_id_dict[df.user_id[idx]] += 1\r\n",
        "        else:\r\n",
        "            user_id_dict[df.user_id[idx]] = 1\r\n",
        "\r\n",
        "        if df.prod_id[idx] in prod_id_dict:\r\n",
        "            prod_id_dict[df.prod_id[idx]] += 1        \r\n",
        "        else:\r\n",
        "            prod_id_dict[df.prod_id[idx]] = 1\r\n",
        "        \r\n",
        "    return user_id_dict, prod_id_dict"
      ],
      "execution_count": 10,
      "outputs": []
    },
    {
      "cell_type": "code",
      "metadata": {
        "colab": {
          "base_uri": "https://localhost:8080/"
        },
        "id": "Ti31JDtF6jYP",
        "outputId": "61376885-b7c0-43fe-f274-bc45b9c865ad"
      },
      "source": [
        "user_id_dict, prod_id_dict = make_id_dict(df)"
      ],
      "execution_count": 11,
      "outputs": [
        {
          "output_type": "stream",
          "text": [
            "100%|██████████| 358957/358957 [00:14<00:00, 25157.19it/s]\n"
          ],
          "name": "stderr"
        }
      ]
    },
    {
      "cell_type": "code",
      "metadata": {
        "colab": {
          "base_uri": "https://localhost:8080/"
        },
        "id": "JVQ1mn9A6wCb",
        "outputId": "fb8400c1-7aa9-4ea7-ed68-051611eaf6fe"
      },
      "source": [
        "user_id_count = []\r\n",
        "prod_id_count = []\r\n",
        "\r\n",
        "for idx in tqdm(range(df.shape[0])):\r\n",
        "    user_id_count.append(user_id_dict[df.user_id[idx]])\r\n",
        "    prod_id_count.append(prod_id_dict[df.prod_id[idx]])"
      ],
      "execution_count": 12,
      "outputs": [
        {
          "output_type": "stream",
          "text": [
            "100%|██████████| 358957/358957 [00:07<00:00, 48552.43it/s]\n"
          ],
          "name": "stderr"
        }
      ]
    },
    {
      "cell_type": "code",
      "metadata": {
        "id": "N9dEMou_75p3"
      },
      "source": [
        "df['user_id_count'] = user_id_count\r\n",
        "df['prod_id_count'] = prod_id_count"
      ],
      "execution_count": 13,
      "outputs": []
    },
    {
      "cell_type": "code",
      "metadata": {
        "colab": {
          "base_uri": "https://localhost:8080/",
          "height": 197
        },
        "id": "gHC86nCO8Al0",
        "outputId": "4b02f107-68f4-4796-c717-6908bc3822c5"
      },
      "source": [
        "df.head()"
      ],
      "execution_count": 14,
      "outputs": [
        {
          "output_type": "execute_result",
          "data": {
            "text/html": [
              "<div>\n",
              "<style scoped>\n",
              "    .dataframe tbody tr th:only-of-type {\n",
              "        vertical-align: middle;\n",
              "    }\n",
              "\n",
              "    .dataframe tbody tr th {\n",
              "        vertical-align: top;\n",
              "    }\n",
              "\n",
              "    .dataframe thead th {\n",
              "        text-align: right;\n",
              "    }\n",
              "</style>\n",
              "<table border=\"1\" class=\"dataframe\">\n",
              "  <thead>\n",
              "    <tr style=\"text-align: right;\">\n",
              "      <th></th>\n",
              "      <th>user_id</th>\n",
              "      <th>prod_id</th>\n",
              "      <th>rating</th>\n",
              "      <th>label</th>\n",
              "      <th>date</th>\n",
              "      <th>review</th>\n",
              "      <th>user_id_count</th>\n",
              "      <th>prod_id_count</th>\n",
              "    </tr>\n",
              "  </thead>\n",
              "  <tbody>\n",
              "    <tr>\n",
              "      <th>0</th>\n",
              "      <td>923</td>\n",
              "      <td>0</td>\n",
              "      <td>3.0</td>\n",
              "      <td>-1</td>\n",
              "      <td>2014-12-08</td>\n",
              "      <td>The food at snack is a selection of popular Gr...</td>\n",
              "      <td>39</td>\n",
              "      <td>210</td>\n",
              "    </tr>\n",
              "    <tr>\n",
              "      <th>1</th>\n",
              "      <td>924</td>\n",
              "      <td>0</td>\n",
              "      <td>3.0</td>\n",
              "      <td>-1</td>\n",
              "      <td>2013-05-16</td>\n",
              "      <td>This little place in Soho is wonderful. I had ...</td>\n",
              "      <td>1</td>\n",
              "      <td>210</td>\n",
              "    </tr>\n",
              "    <tr>\n",
              "      <th>2</th>\n",
              "      <td>925</td>\n",
              "      <td>0</td>\n",
              "      <td>4.0</td>\n",
              "      <td>-1</td>\n",
              "      <td>2013-07-01</td>\n",
              "      <td>ordered lunch for 15 from Snack last Friday.  ...</td>\n",
              "      <td>2</td>\n",
              "      <td>210</td>\n",
              "    </tr>\n",
              "    <tr>\n",
              "      <th>3</th>\n",
              "      <td>926</td>\n",
              "      <td>0</td>\n",
              "      <td>4.0</td>\n",
              "      <td>-1</td>\n",
              "      <td>2011-07-28</td>\n",
              "      <td>This is a beautiful quaint little restaurant o...</td>\n",
              "      <td>1</td>\n",
              "      <td>210</td>\n",
              "    </tr>\n",
              "    <tr>\n",
              "      <th>4</th>\n",
              "      <td>927</td>\n",
              "      <td>0</td>\n",
              "      <td>4.0</td>\n",
              "      <td>-1</td>\n",
              "      <td>2010-11-01</td>\n",
              "      <td>Snack is great place for a  casual sit down lu...</td>\n",
              "      <td>5</td>\n",
              "      <td>210</td>\n",
              "    </tr>\n",
              "  </tbody>\n",
              "</table>\n",
              "</div>"
            ],
            "text/plain": [
              "   user_id  prod_id  ...  user_id_count  prod_id_count\n",
              "0      923        0  ...             39            210\n",
              "1      924        0  ...              1            210\n",
              "2      925        0  ...              2            210\n",
              "3      926        0  ...              1            210\n",
              "4      927        0  ...              5            210\n",
              "\n",
              "[5 rows x 8 columns]"
            ]
          },
          "metadata": {
            "tags": []
          },
          "execution_count": 14
        }
      ]
    },
    {
      "cell_type": "code",
      "metadata": {
        "id": "pgLW0UveIft8"
      },
      "source": [
        "new_label_lst = []\r\n",
        "for ele in df.label:\r\n",
        "    if ele == -1:\r\n",
        "        new_label_lst.append(0)\r\n",
        "    else:\r\n",
        "        new_label_lst.append(1)"
      ],
      "execution_count": 15,
      "outputs": []
    },
    {
      "cell_type": "code",
      "metadata": {
        "id": "JMdRUGKDIxdM"
      },
      "source": [
        "df.drop(['label'], axis=1)\r\n",
        "df['label'] = new_label_lst"
      ],
      "execution_count": 16,
      "outputs": []
    },
    {
      "cell_type": "code",
      "metadata": {
        "colab": {
          "base_uri": "https://localhost:8080/",
          "height": 197
        },
        "id": "QnIMR5KNJNw6",
        "outputId": "07e3a108-8bb3-4a56-d6b4-85d4ceb11f13"
      },
      "source": [
        "df.head()"
      ],
      "execution_count": 17,
      "outputs": [
        {
          "output_type": "execute_result",
          "data": {
            "text/html": [
              "<div>\n",
              "<style scoped>\n",
              "    .dataframe tbody tr th:only-of-type {\n",
              "        vertical-align: middle;\n",
              "    }\n",
              "\n",
              "    .dataframe tbody tr th {\n",
              "        vertical-align: top;\n",
              "    }\n",
              "\n",
              "    .dataframe thead th {\n",
              "        text-align: right;\n",
              "    }\n",
              "</style>\n",
              "<table border=\"1\" class=\"dataframe\">\n",
              "  <thead>\n",
              "    <tr style=\"text-align: right;\">\n",
              "      <th></th>\n",
              "      <th>user_id</th>\n",
              "      <th>prod_id</th>\n",
              "      <th>rating</th>\n",
              "      <th>label</th>\n",
              "      <th>date</th>\n",
              "      <th>review</th>\n",
              "      <th>user_id_count</th>\n",
              "      <th>prod_id_count</th>\n",
              "    </tr>\n",
              "  </thead>\n",
              "  <tbody>\n",
              "    <tr>\n",
              "      <th>0</th>\n",
              "      <td>923</td>\n",
              "      <td>0</td>\n",
              "      <td>3.0</td>\n",
              "      <td>0</td>\n",
              "      <td>2014-12-08</td>\n",
              "      <td>The food at snack is a selection of popular Gr...</td>\n",
              "      <td>39</td>\n",
              "      <td>210</td>\n",
              "    </tr>\n",
              "    <tr>\n",
              "      <th>1</th>\n",
              "      <td>924</td>\n",
              "      <td>0</td>\n",
              "      <td>3.0</td>\n",
              "      <td>0</td>\n",
              "      <td>2013-05-16</td>\n",
              "      <td>This little place in Soho is wonderful. I had ...</td>\n",
              "      <td>1</td>\n",
              "      <td>210</td>\n",
              "    </tr>\n",
              "    <tr>\n",
              "      <th>2</th>\n",
              "      <td>925</td>\n",
              "      <td>0</td>\n",
              "      <td>4.0</td>\n",
              "      <td>0</td>\n",
              "      <td>2013-07-01</td>\n",
              "      <td>ordered lunch for 15 from Snack last Friday.  ...</td>\n",
              "      <td>2</td>\n",
              "      <td>210</td>\n",
              "    </tr>\n",
              "    <tr>\n",
              "      <th>3</th>\n",
              "      <td>926</td>\n",
              "      <td>0</td>\n",
              "      <td>4.0</td>\n",
              "      <td>0</td>\n",
              "      <td>2011-07-28</td>\n",
              "      <td>This is a beautiful quaint little restaurant o...</td>\n",
              "      <td>1</td>\n",
              "      <td>210</td>\n",
              "    </tr>\n",
              "    <tr>\n",
              "      <th>4</th>\n",
              "      <td>927</td>\n",
              "      <td>0</td>\n",
              "      <td>4.0</td>\n",
              "      <td>0</td>\n",
              "      <td>2010-11-01</td>\n",
              "      <td>Snack is great place for a  casual sit down lu...</td>\n",
              "      <td>5</td>\n",
              "      <td>210</td>\n",
              "    </tr>\n",
              "  </tbody>\n",
              "</table>\n",
              "</div>"
            ],
            "text/plain": [
              "   user_id  prod_id  ...  user_id_count  prod_id_count\n",
              "0      923        0  ...             39            210\n",
              "1      924        0  ...              1            210\n",
              "2      925        0  ...              2            210\n",
              "3      926        0  ...              1            210\n",
              "4      927        0  ...              5            210\n",
              "\n",
              "[5 rows x 8 columns]"
            ]
          },
          "metadata": {
            "tags": []
          },
          "execution_count": 17
        }
      ]
    },
    {
      "cell_type": "code",
      "metadata": {
        "id": "Hid6Pjketaxc"
      },
      "source": [
        "df = df.sample(frac=1, random_state=random_seed)\n",
        "df = df.reset_index(drop=True)"
      ],
      "execution_count": 18,
      "outputs": []
    },
    {
      "cell_type": "code",
      "metadata": {
        "id": "9VubgvW7tDz0"
      },
      "source": [
        "is_real = df['label'] == 1\r\n",
        "df_real = df[is_real]\r\n",
        "\r\n",
        "is_fake = df['label'] == 0\r\n",
        "df_fake = df[is_fake]\r\n",
        "\r\n",
        "assert df.shape[0] == df_real.shape[0] + df_fake.shape[0]"
      ],
      "execution_count": 19,
      "outputs": []
    },
    {
      "cell_type": "code",
      "metadata": {
        "id": "ao3xCSLtteic"
      },
      "source": [
        "df_train_real = df_real[:10000].reset_index(drop=True)\r\n",
        "df_val_real = df_real[10000:11000].reset_index(drop=True)\r\n",
        "df_test_real = df_real[11000:13000].reset_index(drop=True)\r\n",
        "\r\n",
        "df_train_fake = df_fake[:10000].reset_index(drop=True)\r\n",
        "df_val_fake = df_fake[10000:11000].reset_index(drop=True)\r\n",
        "df_test_fake = df_fake[11000:13000].reset_index(drop=True)"
      ],
      "execution_count": 20,
      "outputs": []
    },
    {
      "cell_type": "code",
      "metadata": {
        "id": "2DHWN3pZtlop"
      },
      "source": [
        "df_train = pd.concat([df_train_real, df_train_fake])\r\n",
        "df_val = pd.concat([df_val_real, df_val_fake])\r\n",
        "df_test = pd.concat([df_test_real, df_test_fake])"
      ],
      "execution_count": 21,
      "outputs": []
    },
    {
      "cell_type": "code",
      "metadata": {
        "id": "rk4-C-JOu5dQ"
      },
      "source": [
        "df_train = df_train.sample(frac=1, random_state=random_seed).reset_index(drop=True)\r\n",
        "df_val = df_val.sample(frac=1, random_state=random_seed).reset_index(drop=True)\r\n",
        "df_test = df_test.sample(frac=1, random_state=random_seed).reset_index(drop=True)"
      ],
      "execution_count": 22,
      "outputs": []
    },
    {
      "cell_type": "code",
      "metadata": {
        "colab": {
          "base_uri": "https://localhost:8080/",
          "height": 197
        },
        "id": "H2jKqGCDG6VH",
        "outputId": "043282a0-2528-4499-e63c-c8044d86466b"
      },
      "source": [
        "df_train.head()"
      ],
      "execution_count": 23,
      "outputs": [
        {
          "output_type": "execute_result",
          "data": {
            "text/html": [
              "<div>\n",
              "<style scoped>\n",
              "    .dataframe tbody tr th:only-of-type {\n",
              "        vertical-align: middle;\n",
              "    }\n",
              "\n",
              "    .dataframe tbody tr th {\n",
              "        vertical-align: top;\n",
              "    }\n",
              "\n",
              "    .dataframe thead th {\n",
              "        text-align: right;\n",
              "    }\n",
              "</style>\n",
              "<table border=\"1\" class=\"dataframe\">\n",
              "  <thead>\n",
              "    <tr style=\"text-align: right;\">\n",
              "      <th></th>\n",
              "      <th>user_id</th>\n",
              "      <th>prod_id</th>\n",
              "      <th>rating</th>\n",
              "      <th>label</th>\n",
              "      <th>date</th>\n",
              "      <th>review</th>\n",
              "      <th>user_id_count</th>\n",
              "      <th>prod_id_count</th>\n",
              "    </tr>\n",
              "  </thead>\n",
              "  <tbody>\n",
              "    <tr>\n",
              "      <th>0</th>\n",
              "      <td>85283</td>\n",
              "      <td>417</td>\n",
              "      <td>5.0</td>\n",
              "      <td>0</td>\n",
              "      <td>2008-10-20</td>\n",
              "      <td>i moved to greenpoint  about a year ago and wa...</td>\n",
              "      <td>1</td>\n",
              "      <td>998</td>\n",
              "    </tr>\n",
              "    <tr>\n",
              "      <th>1</th>\n",
              "      <td>2612</td>\n",
              "      <td>7</td>\n",
              "      <td>2.0</td>\n",
              "      <td>1</td>\n",
              "      <td>2014-12-29</td>\n",
              "      <td>Usually I love this place. My parents ask to c...</td>\n",
              "      <td>1</td>\n",
              "      <td>677</td>\n",
              "    </tr>\n",
              "    <tr>\n",
              "      <th>2</th>\n",
              "      <td>12271</td>\n",
              "      <td>247</td>\n",
              "      <td>3.0</td>\n",
              "      <td>1</td>\n",
              "      <td>2010-09-18</td>\n",
              "      <td>The ramen tastes like the ones in Japan, which...</td>\n",
              "      <td>26</td>\n",
              "      <td>7378</td>\n",
              "    </tr>\n",
              "    <tr>\n",
              "      <th>3</th>\n",
              "      <td>4872</td>\n",
              "      <td>613</td>\n",
              "      <td>3.0</td>\n",
              "      <td>1</td>\n",
              "      <td>2011-04-05</td>\n",
              "      <td>I like this place. I liked the bartender. I li...</td>\n",
              "      <td>21</td>\n",
              "      <td>369</td>\n",
              "    </tr>\n",
              "    <tr>\n",
              "      <th>4</th>\n",
              "      <td>138308</td>\n",
              "      <td>752</td>\n",
              "      <td>4.0</td>\n",
              "      <td>0</td>\n",
              "      <td>2010-12-29</td>\n",
              "      <td>This place has great chicken and waffles, so g...</td>\n",
              "      <td>1</td>\n",
              "      <td>1217</td>\n",
              "    </tr>\n",
              "  </tbody>\n",
              "</table>\n",
              "</div>"
            ],
            "text/plain": [
              "   user_id  prod_id  ...  user_id_count  prod_id_count\n",
              "0    85283      417  ...              1            998\n",
              "1     2612        7  ...              1            677\n",
              "2    12271      247  ...             26           7378\n",
              "3     4872      613  ...             21            369\n",
              "4   138308      752  ...              1           1217\n",
              "\n",
              "[5 rows x 8 columns]"
            ]
          },
          "metadata": {
            "tags": []
          },
          "execution_count": 23
        }
      ]
    },
    {
      "cell_type": "code",
      "metadata": {
        "colab": {
          "base_uri": "https://localhost:8080/"
        },
        "id": "fRHdsL-sE3Wr",
        "outputId": "19c37462-b71c-44d3-839a-8ee9679f53e1"
      },
      "source": [
        "sentence = df_train.review[0].lower()\r\n",
        "print(sentence)\r\n",
        "sentence = re.sub('[\\d]+', 'NUMBER', sentence)\r\n",
        "sentence = re.sub('[^\\dA-Za-z\\s]+', '', sentence)\r\n",
        "sentence = re.sub('[NUMBER]+', 'NUMBER ', sentence)\r\n",
        "print(sentence)\r\n",
        "\r\n",
        "# print(sentence.split())"
      ],
      "execution_count": 24,
      "outputs": [
        {
          "output_type": "stream",
          "text": [
            "i moved to greenpoint  about a year ago and was a lil sad about the cafe situation in the area... glad this place has opened!!! i can get a kick ass coffee on the way to work and i admit i have been stopping by on my way home for oysters/cheese and their addictive sidecars. the staff is nice (hot) and it's a good addition to the hood.\n",
            "i moved to greenpoint  about a year ago and was a lil sad about the cafe situation in the area glad this place has opened i can get a kick ass coffee on the way to work and i admit i have been stopping by on my way home for oysterscheese and their addictive sidecars the staff is nice hot and its a good addition to the hood\n"
          ],
          "name": "stdout"
        }
      ]
    },
    {
      "cell_type": "code",
      "metadata": {
        "id": "9AvpKoct-sH2"
      },
      "source": [
        "def make_word_dict(df):\r\n",
        "    real_review_dict = dict()\r\n",
        "    fake_review_dict = dict()\r\n",
        "\r\n",
        "    for i in tqdm(range(df.shape[0])):\r\n",
        "        # word_lst = df.review[i].lower().split()\r\n",
        "        \r\n",
        "        sentence = df.review[i].lower()\r\n",
        "        sentence = re.sub('[\\d]+', 'NUMBER', sentence)\r\n",
        "        sentence = re.sub('[^A-Za-z\\s]', '', sentence)\r\n",
        "        sentence = re.sub('[NUMBER]+', 'NUMBER', sentence)\r\n",
        "        word_lst = sentence.split()\r\n",
        "\r\n",
        "        if df.label[i] == 1:\r\n",
        "            for ele in word_lst:\r\n",
        "                if ele in real_review_dict:\r\n",
        "                    real_review_dict[ele] += 1\r\n",
        "                else:\r\n",
        "                    real_review_dict[ele] = 1\r\n",
        "\r\n",
        "        else:\r\n",
        "            for ele in word_lst:\r\n",
        "                if ele in fake_review_dict:\r\n",
        "                    fake_review_dict[ele] += 1\r\n",
        "                else:\r\n",
        "                    fake_review_dict[ele] = 1\r\n",
        "\r\n",
        "    return real_review_dict, fake_review_dict"
      ],
      "execution_count": 25,
      "outputs": []
    },
    {
      "cell_type": "code",
      "metadata": {
        "colab": {
          "base_uri": "https://localhost:8080/"
        },
        "id": "g4inKH_uLytz",
        "outputId": "ef4d0fce-cc2e-491d-eda4-75d2ec04bf69"
      },
      "source": [
        "real_review_dict, fake_review_dict = make_word_dict(df_train)"
      ],
      "execution_count": 26,
      "outputs": [
        {
          "output_type": "stream",
          "text": [
            "100%|██████████| 20000/20000 [00:02<00:00, 9514.08it/s]\n"
          ],
          "name": "stderr"
        }
      ]
    },
    {
      "cell_type": "code",
      "metadata": {
        "id": "mnidia-XCKZf"
      },
      "source": [
        "def make_del_word_lst(fake_review_dict, real_review_dict, threshold=0.8):\r\n",
        "    del_word_lst = []\r\n",
        "    sum_real_review = sum(real_review_dict.values())\r\n",
        "    sum_fake_review = sum(fake_review_dict.values())\r\n",
        "\r\n",
        "    for ele in fake_review_dict:\r\n",
        "        if ele in real_review_dict:\r\n",
        "            real_cnt = real_review_dict[ele] / sum_real_review\r\n",
        "            fake_cnt = fake_review_dict[ele] / sum_fake_review\r\n",
        "\r\n",
        "            if real_cnt < fake_cnt:\r\n",
        "                real_cnt, fake_cnt = (fake_cnt, real_cnt)\r\n",
        "      \r\n",
        "            if (fake_cnt / real_cnt) >= threshold:\r\n",
        "                del_word_lst.append(ele)\r\n",
        "\r\n",
        "    return del_word_lst"
      ],
      "execution_count": 27,
      "outputs": []
    },
    {
      "cell_type": "code",
      "metadata": {
        "id": "dXsuphARHO5L"
      },
      "source": [
        "del_word_lst = make_del_word_lst(fake_review_dict, real_review_dict, threshold=0.9)"
      ],
      "execution_count": 28,
      "outputs": []
    },
    {
      "cell_type": "code",
      "metadata": {
        "colab": {
          "base_uri": "https://localhost:8080/"
        },
        "id": "TXsDtwVo079w",
        "outputId": "3b31d292-d247-4019-b710-c9b2e6f5404d"
      },
      "source": [
        "len(del_word_lst)"
      ],
      "execution_count": 29,
      "outputs": [
        {
          "output_type": "execute_result",
          "data": {
            "text/plain": [
              "1724"
            ]
          },
          "metadata": {
            "tags": []
          },
          "execution_count": 29
        }
      ]
    },
    {
      "cell_type": "code",
      "metadata": {
        "id": "-RFShlMUJXV2"
      },
      "source": [
        "def make_review_lst(df, del_word_lst):\r\n",
        "  new_review_lst = []\r\n",
        "  for sentence in tqdm(df.review):\r\n",
        "    sentence = sentence.lower()\r\n",
        "    \r\n",
        "    sentence = re.sub('[\\d]+', '<NUM>', sentence)\r\n",
        "    sentence = re.sub('[^A-Za-z\\s]', '', sentence)\r\n",
        "    # sentence = re.sub('[<NUM>]+', '<NUM>', sentence) # f you don't want to delete the number\r\n",
        "    sentence = re.sub('[<NUM>]+', '', sentence) # f you want to delete the number\r\n",
        "    new_review_lst.append(''.join(map(lambda x: x + ' ' if x not in del_word_lst else '', sentence.split())))\r\n",
        "    \r\n",
        "  return new_review_lst"
      ],
      "execution_count": 30,
      "outputs": []
    },
    {
      "cell_type": "code",
      "metadata": {
        "colab": {
          "base_uri": "https://localhost:8080/"
        },
        "id": "jU91Gj47lIls",
        "outputId": "0fa56a6d-31f5-4831-fdb6-ea9075e33336"
      },
      "source": [
        "train_review_lst = make_review_lst(df_train, del_word_lst)\r\n",
        "val_review_lst = make_review_lst(df_val, del_word_lst)\r\n",
        "test_review_lst = make_review_lst(df_test, del_word_lst)"
      ],
      "execution_count": 31,
      "outputs": [
        {
          "output_type": "stream",
          "text": [
            "100%|██████████| 20000/20000 [00:27<00:00, 731.31it/s]\n",
            "100%|██████████| 2000/2000 [00:02<00:00, 748.94it/s]\n",
            "100%|██████████| 4000/4000 [00:05<00:00, 755.78it/s]\n"
          ],
          "name": "stderr"
        }
      ]
    },
    {
      "cell_type": "code",
      "metadata": {
        "id": "9HymAUKJkO-n"
      },
      "source": [
        "# 필요 없다고 생각되는 col들 삭제\r\n",
        "df_train = df_train.drop(['user_id', 'prod_id', 'date', 'review'], axis=1)\r\n",
        "df_val = df_val.drop(['user_id', 'prod_id', 'date', 'review'], axis=1)\r\n",
        "df_test = df_test.drop(['user_id', 'prod_id', 'date', 'review'], axis=1)"
      ],
      "execution_count": 32,
      "outputs": []
    },
    {
      "cell_type": "code",
      "metadata": {
        "id": "j8W05ikXlcA9"
      },
      "source": [
        "df_train['review'] = train_review_lst\r\n",
        "df_val['review'] = val_review_lst\r\n",
        "df_test['review'] = test_review_lst"
      ],
      "execution_count": 33,
      "outputs": []
    },
    {
      "cell_type": "code",
      "metadata": {
        "colab": {
          "base_uri": "https://localhost:8080/",
          "height": 197
        },
        "id": "UEEdXDqDMBDH",
        "outputId": "5d1c44fb-3033-4e06-a587-0ea006a48bca"
      },
      "source": [
        "df_train.head()"
      ],
      "execution_count": 34,
      "outputs": [
        {
          "output_type": "execute_result",
          "data": {
            "text/html": [
              "<div>\n",
              "<style scoped>\n",
              "    .dataframe tbody tr th:only-of-type {\n",
              "        vertical-align: middle;\n",
              "    }\n",
              "\n",
              "    .dataframe tbody tr th {\n",
              "        vertical-align: top;\n",
              "    }\n",
              "\n",
              "    .dataframe thead th {\n",
              "        text-align: right;\n",
              "    }\n",
              "</style>\n",
              "<table border=\"1\" class=\"dataframe\">\n",
              "  <thead>\n",
              "    <tr style=\"text-align: right;\">\n",
              "      <th></th>\n",
              "      <th>rating</th>\n",
              "      <th>label</th>\n",
              "      <th>user_id_count</th>\n",
              "      <th>prod_id_count</th>\n",
              "      <th>review</th>\n",
              "    </tr>\n",
              "  </thead>\n",
              "  <tbody>\n",
              "    <tr>\n",
              "      <th>0</th>\n",
              "      <td>5.0</td>\n",
              "      <td>0</td>\n",
              "      <td>1</td>\n",
              "      <td>998</td>\n",
              "      <td>moved greenpoint year ago lil cafe situation t...</td>\n",
              "    </tr>\n",
              "    <tr>\n",
              "      <th>1</th>\n",
              "      <td>2.0</td>\n",
              "      <td>1</td>\n",
              "      <td>1</td>\n",
              "      <td>677</td>\n",
              "      <td>love this place ask come every time are nyc ca...</td>\n",
              "    </tr>\n",
              "    <tr>\n",
              "      <th>2</th>\n",
              "      <td>3.0</td>\n",
              "      <td>1</td>\n",
              "      <td>26</td>\n",
              "      <td>7378</td>\n",
              "      <td>ramen tastes ones japan which is soup is basic...</td>\n",
              "    </tr>\n",
              "    <tr>\n",
              "      <th>3</th>\n",
              "      <td>3.0</td>\n",
              "      <td>1</td>\n",
              "      <td>21</td>\n",
              "      <td>369</td>\n",
              "      <td>this place liked bartender liked of food its j...</td>\n",
              "    </tr>\n",
              "    <tr>\n",
              "      <th>4</th>\n",
              "      <td>4.0</td>\n",
              "      <td>0</td>\n",
              "      <td>1</td>\n",
              "      <td>1217</td>\n",
              "      <td>this place has great chicken waffles great say...</td>\n",
              "    </tr>\n",
              "  </tbody>\n",
              "</table>\n",
              "</div>"
            ],
            "text/plain": [
              "   rating  ...                                             review\n",
              "0     5.0  ...  moved greenpoint year ago lil cafe situation t...\n",
              "1     2.0  ...  love this place ask come every time are nyc ca...\n",
              "2     3.0  ...  ramen tastes ones japan which is soup is basic...\n",
              "3     3.0  ...  this place liked bartender liked of food its j...\n",
              "4     4.0  ...  this place has great chicken waffles great say...\n",
              "\n",
              "[5 rows x 5 columns]"
            ]
          },
          "metadata": {
            "tags": []
          },
          "execution_count": 34
        }
      ]
    },
    {
      "cell_type": "code",
      "metadata": {
        "colab": {
          "base_uri": "https://localhost:8080/",
          "height": 34
        },
        "id": "6212LVvutaxc",
        "outputId": "05ae5448-c14d-4c54-9b53-d43cbe0a1fd6"
      },
      "source": [
        "# df.comment_text[0]\r\n",
        "df_train.review[0]"
      ],
      "execution_count": 35,
      "outputs": [
        {
          "output_type": "execute_result",
          "data": {
            "application/vnd.google.colaboratory.intrinsic+json": {
              "type": "string"
            },
            "text/plain": [
              "'moved greenpoint year ago lil cafe situation this place has opened kick ass work admit have been home oysterscheese addictive sidecars staff is hot its addition hood '"
            ]
          },
          "metadata": {
            "tags": []
          },
          "execution_count": 35
        }
      ]
    },
    {
      "cell_type": "code",
      "metadata": {
        "id": "_0evrdFjtaxd"
      },
      "source": [
        "# target_columns = [\"toxic\", \"severe_toxic\", \"obscene\", \"threat\", \"insult\", \"identity_hate\"]\n",
        "# df.iloc[[103]][target_columns]\n",
        "\n",
        "target_columns = [\"label\"]\n",
        "df.iloc[[103]][target_columns]"
      ],
      "execution_count": null,
      "outputs": []
    },
    {
      "cell_type": "code",
      "metadata": {
        "id": "wAGS3i0ptaxd"
      },
      "source": [
        "df_train.shape"
      ],
      "execution_count": null,
      "outputs": []
    },
    {
      "cell_type": "code",
      "metadata": {
        "id": "pFCtHydMtaxe"
      },
      "source": [
        "df_val.shape"
      ],
      "execution_count": null,
      "outputs": []
    },
    {
      "cell_type": "code",
      "metadata": {
        "id": "yjjNhjnAtaxe"
      },
      "source": [
        "df_test.shape"
      ],
      "execution_count": null,
      "outputs": []
    },
    {
      "cell_type": "code",
      "metadata": {
        "id": "5NWLA7iltaxe"
      },
      "source": [
        "model_class = transformers.BertModel\n",
        "tokenizer_class = transformers.BertTokenizer\n",
        "pretrained_weights='bert-base-uncased'"
      ],
      "execution_count": null,
      "outputs": []
    },
    {
      "cell_type": "code",
      "metadata": {
        "id": "uXkPd8T8taxe"
      },
      "source": [
        "tokenizer = tokenizer_class.from_pretrained(pretrained_weights)\n",
        "bert_model = model_class.from_pretrained(pretrained_weights)"
      ],
      "execution_count": null,
      "outputs": []
    },
    {
      "cell_type": "code",
      "metadata": {
        "id": "Odjez8j8taxf"
      },
      "source": [
        "max_seq = 30"
      ],
      "execution_count": null,
      "outputs": []
    },
    {
      "cell_type": "code",
      "metadata": {
        "id": "0lYAfvNytaxf"
      },
      "source": [
        "def tokenize_text(df, max_seq):\n",
        "    return [\n",
        "        # tokenizer.encode(text, add_special_tokens=True)[:max_seq] for text in df.comment_text.values\n",
        "        tokenizer.encode(text, add_special_tokens=True)[:max_seq] for text in df.review.values\n",
        "    ]\n",
        "\n",
        "\n",
        "def pad_text(tokenized_text, max_seq):\n",
        "    return np.array([el + [0] * (max_seq - len(el)) for el in tokenized_text])\n",
        "\n",
        "\n",
        "def tokenize_and_pad_text(df, max_seq):\n",
        "    tokenized_text = tokenize_text(df, max_seq)\n",
        "    padded_text = pad_text(tokenized_text, max_seq)\n",
        "    return torch.tensor(padded_text)\n",
        "\n",
        "\n",
        "def targets_to_tensor(df, target_columns):\n",
        "    return torch.tensor(df[target_columns].values, dtype=torch.float32)"
      ],
      "execution_count": null,
      "outputs": []
    },
    {
      "cell_type": "code",
      "metadata": {
        "id": "_V26KmC2Bo9X"
      },
      "source": [
        "lis = tokenize_text(df_train, max_seq)"
      ],
      "execution_count": null,
      "outputs": []
    },
    {
      "cell_type": "code",
      "metadata": {
        "id": "qex3_F-9BujD"
      },
      "source": [
        "print(lis)"
      ],
      "execution_count": null,
      "outputs": []
    },
    {
      "cell_type": "code",
      "metadata": {
        "id": "G3a0GDYbtaxf"
      },
      "source": [
        "train_indices = tokenize_and_pad_text(df_train, max_seq)\n",
        "val_indices = tokenize_and_pad_text(df_val, max_seq)\n",
        "test_indices = tokenize_and_pad_text(df_test, max_seq)"
      ],
      "execution_count": null,
      "outputs": []
    },
    {
      "cell_type": "code",
      "metadata": {
        "id": "1DTm2W2qBaCr"
      },
      "source": [
        "print(train_indices)"
      ],
      "execution_count": null,
      "outputs": []
    },
    {
      "cell_type": "code",
      "metadata": {
        "id": "UvQOxhE7taxf"
      },
      "source": [
        "with torch.no_grad():\n",
        "    x_train = bert_model(train_indices)[0]  # Models outputs are tuples\n",
        "    x_val = bert_model(val_indices)[0]\n",
        "    x_test = bert_model(test_indices)[0]"
      ],
      "execution_count": null,
      "outputs": []
    },
    {
      "cell_type": "code",
      "metadata": {
        "id": "4Ivf4pittaxf"
      },
      "source": [
        "y_train = targets_to_tensor(df_train, target_columns)\n",
        "y_val = targets_to_tensor(df_val, target_columns)\n",
        "y_test = targets_to_tensor(df_test, target_columns)"
      ],
      "execution_count": null,
      "outputs": []
    },
    {
      "cell_type": "code",
      "metadata": {
        "id": "jzimpV72taxg"
      },
      "source": [
        "x_train[0]"
      ],
      "execution_count": null,
      "outputs": []
    },
    {
      "cell_type": "code",
      "metadata": {
        "id": "pnhOmVF2taxg"
      },
      "source": [
        "x_train[0].shape"
      ],
      "execution_count": null,
      "outputs": []
    },
    {
      "cell_type": "code",
      "metadata": {
        "id": "yo_GSNWQtaxg"
      },
      "source": [
        "y_train[0]"
      ],
      "execution_count": null,
      "outputs": []
    },
    {
      "cell_type": "code",
      "metadata": {
        "id": "AOdWlEcEtaxg"
      },
      "source": [
        "class KimCNN(nn.Module):\n",
        "    def __init__(self, embed_num, embed_dim, class_num, kernel_num, kernel_sizes, dropout, static):\n",
        "        super(KimCNN, self).__init__()\n",
        "\n",
        "        V = embed_num\n",
        "        D = embed_dim\n",
        "        C = class_num\n",
        "        Co = kernel_num\n",
        "        Ks = kernel_sizes\n",
        "        \n",
        "        self.static = static\n",
        "        self.embed = nn.Embedding(V, D)\n",
        "        self.convs1 = nn.ModuleList([nn.Conv2d(1, Co, (K, D)) for K in Ks])\n",
        "        self.dropout = nn.Dropout(dropout)\n",
        "        self.fc1 = nn.Linear(len(Ks) * Co, C)\n",
        "        self.sigmoid = nn.Sigmoid()\n",
        "        \n",
        "\n",
        "    def forward(self, x):\n",
        "        if self.static:\n",
        "            x = Variable(x)\n",
        "\n",
        "        x = x.unsqueeze(1)  # (N, Ci, W, D)\n",
        "\n",
        "        x = [F.relu(conv(x)).squeeze(3) for conv in self.convs1]  # [(N, Co, W), ...]*len(Ks)\n",
        "\n",
        "        x = [F.max_pool1d(i, i.size(2)).squeeze(2) for i in x]  # [(N, Co), ...]*len(Ks)\n",
        "\n",
        "        x = torch.cat(x, 1)\n",
        "        x = self.dropout(x)  # (N, len(Ks)*Co)\n",
        "        logit = self.fc1(x)  # (N, C)\n",
        "        output = self.sigmoid(logit)\n",
        "        return output"
      ],
      "execution_count": null,
      "outputs": []
    },
    {
      "cell_type": "code",
      "metadata": {
        "id": "jLhSZ4Hutaxh"
      },
      "source": [
        "embed_num = x_train.shape[1]\n",
        "embed_dim = x_train.shape[2]\n",
        "class_num = y_train.shape[1]\n",
        "kernel_num = 3\n",
        "kernel_sizes = [2, 3, 4]\n",
        "dropout = 0.5\n",
        "static = True"
      ],
      "execution_count": null,
      "outputs": []
    },
    {
      "cell_type": "code",
      "metadata": {
        "id": "nYggZBmKtaxh"
      },
      "source": [
        "model = KimCNN(\n",
        "    embed_num=embed_num,\n",
        "    embed_dim=embed_dim,\n",
        "    class_num=class_num,\n",
        "    kernel_num=kernel_num,\n",
        "    kernel_sizes=kernel_sizes,\n",
        "    dropout=dropout,\n",
        "    static=static,\n",
        ")"
      ],
      "execution_count": null,
      "outputs": []
    },
    {
      "cell_type": "code",
      "metadata": {
        "id": "kZVrkfyntaxh"
      },
      "source": [
        "n_epochs = 10\n",
        "batch_size = 10\n",
        "lr = 0.001\n",
        "optimizer = torch.optim.Adam(model.parameters(), lr=lr)\n",
        "loss_fn = nn.BCELoss()"
      ],
      "execution_count": null,
      "outputs": []
    },
    {
      "cell_type": "code",
      "metadata": {
        "id": "TvfRpc_-taxh"
      },
      "source": [
        "def generate_batch_data(x, y, batch_size):\n",
        "    i, batch = 0, 0\n",
        "    for batch, i in enumerate(range(0, len(x) - batch_size, batch_size), 1):\n",
        "        x_batch = x[i : i + batch_size]\n",
        "        y_batch = y[i : i + batch_size]\n",
        "        yield x_batch, y_batch, batch\n",
        "    if i + batch_size < len(x):\n",
        "        yield x[i + batch_size :], y[i + batch_size :], batch + 1\n",
        "    if batch == 0:\n",
        "        yield x, y, 1"
      ],
      "execution_count": null,
      "outputs": []
    },
    {
      "cell_type": "code",
      "metadata": {
        "id": "gBAKAbWXtaxh"
      },
      "source": [
        "train_losses, val_losses = [], []\n",
        "\n",
        "for epoch in range(n_epochs):\n",
        "    start_time = time.time()\n",
        "    train_loss = 0\n",
        "\n",
        "    model.train(True)\n",
        "    for x_batch, y_batch, batch in generate_batch_data(x_train, y_train, batch_size):\n",
        "        y_pred = model(x_batch)\n",
        "        optimizer.zero_grad()\n",
        "        loss = loss_fn(y_pred, y_batch)\n",
        "        loss.backward()\n",
        "        optimizer.step()\n",
        "        train_loss += loss.item()\n",
        "\n",
        "    train_loss /= batch\n",
        "    train_losses.append(train_loss)\n",
        "    elapsed = time.time() - start_time\n",
        "\n",
        "    model.eval() # disable dropout for deterministic output\n",
        "    with torch.no_grad(): # deactivate autograd engine to reduce memory usage and speed up computations\n",
        "        val_loss, batch = 0, 1\n",
        "        for x_batch, y_batch, batch in generate_batch_data(x_val, y_val, batch_size):\n",
        "            y_pred = model(x_batch)\n",
        "            loss = loss_fn(y_pred, y_batch)\n",
        "            val_loss += loss.item()\n",
        "        val_loss /= batch\n",
        "        val_losses.append(val_loss)\n",
        "\n",
        "    print(\n",
        "        \"Epoch %d Train loss: %.2f. Validation loss: %.2f. Elapsed time: %.2fs.\"\n",
        "        % (epoch + 1, train_losses[-1], val_losses[-1], elapsed)\n",
        "    )"
      ],
      "execution_count": null,
      "outputs": []
    },
    {
      "cell_type": "code",
      "metadata": {
        "id": "3jI4hTcstaxi"
      },
      "source": [
        "plt.plot(train_losses, label=\"Training loss\")\n",
        "plt.plot(val_losses, label=\"Validation loss\")\n",
        "plt.legend()\n",
        "plt.title(\"Losses\")"
      ],
      "execution_count": null,
      "outputs": []
    },
    {
      "cell_type": "code",
      "metadata": {
        "id": "7kEK1KOYtaxi"
      },
      "source": [
        "model.eval() # disable dropout for deterministic output\n",
        "with torch.no_grad(): # deactivate autograd engine to reduce memory usage and speed up computations\n",
        "    y_preds = []\n",
        "    batch = 0\n",
        "    for x_batch, y_batch, batch in generate_batch_data(x_test, y_test, batch_size):\n",
        "        y_pred = model(x_batch)\n",
        "        y_preds.extend(y_pred.cpu().numpy().tolist())\n",
        "    y_preds_np = np.array(y_preds)"
      ],
      "execution_count": null,
      "outputs": []
    },
    {
      "cell_type": "code",
      "metadata": {
        "id": "fZ8IiiPPtaxj"
      },
      "source": [
        "y_preds_np"
      ],
      "execution_count": null,
      "outputs": []
    },
    {
      "cell_type": "code",
      "metadata": {
        "id": "-61__k69taxj"
      },
      "source": [
        "y_test_np = df_test[target_columns].values"
      ],
      "execution_count": null,
      "outputs": []
    },
    {
      "cell_type": "code",
      "metadata": {
        "id": "78DMarKytaxj"
      },
      "source": [
        "y_test_np[1000:]"
      ],
      "execution_count": null,
      "outputs": []
    },
    {
      "cell_type": "code",
      "metadata": {
        "id": "W_Y1RsYCtaxj"
      },
      "source": [
        "auc_scores = roc_auc_score(y_test_np, y_preds_np, average=None)\n",
        "df_accuracy = pd.DataFrame({\"label\": target_columns, \"auc\": auc_scores})\n",
        "df_accuracy.sort_values('auc')[::-1]"
      ],
      "execution_count": null,
      "outputs": []
    },
    {
      "cell_type": "code",
      "metadata": {
        "id": "jAtoUBd5taxm"
      },
      "source": [
        "positive_labels = df_train[target_columns].sum().sum()\n",
        "positive_labels"
      ],
      "execution_count": null,
      "outputs": []
    },
    {
      "cell_type": "code",
      "metadata": {
        "id": "okAqCy2Ttaxm"
      },
      "source": [
        "all_labels = df_train[target_columns].count().sum()\n",
        "all_labels"
      ],
      "execution_count": null,
      "outputs": []
    },
    {
      "cell_type": "code",
      "metadata": {
        "id": "Ystlx-fwtaxm"
      },
      "source": [
        "positive_labels/all_labels"
      ],
      "execution_count": null,
      "outputs": []
    },
    {
      "cell_type": "code",
      "metadata": {
        "id": "r4L9lLWataxn"
      },
      "source": [
        "df_test_targets = df_test[target_columns]\n",
        "df_pred_targets = pd.DataFrame(y_preds_np.round(), columns=target_columns, dtype=int)\n",
        "df_sanity = df_test_targets.join(df_pred_targets, how='inner', rsuffix='_pred')"
      ],
      "execution_count": null,
      "outputs": []
    },
    {
      "cell_type": "code",
      "metadata": {
        "id": "bI6twDD6taxn"
      },
      "source": [
        "df_sanity"
      ],
      "execution_count": null,
      "outputs": []
    },
    {
      "cell_type": "code",
      "metadata": {
        "id": "6xcgUUU6taxn"
      },
      "source": [
        "df_test_targets.sum()"
      ],
      "execution_count": null,
      "outputs": []
    },
    {
      "cell_type": "code",
      "metadata": {
        "id": "d8iIjrJ7taxn"
      },
      "source": [
        "df_pred_targets.sum()"
      ],
      "execution_count": null,
      "outputs": []
    },
    {
      "cell_type": "code",
      "metadata": {
        "id": "onBm9ivCtaxo"
      },
      "source": [
        "df_sanity[df_sanity.label > 0][['label', 'label_pred']]"
      ],
      "execution_count": null,
      "outputs": []
    },
    {
      "cell_type": "code",
      "metadata": {
        "id": "L6YUW3G7JKRk"
      },
      "source": [
        ""
      ],
      "execution_count": null,
      "outputs": []
    }
  ]
}